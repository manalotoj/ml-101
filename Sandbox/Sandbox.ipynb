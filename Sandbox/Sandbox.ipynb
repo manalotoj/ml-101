{
 "cells": [
  {
   "cell_type": "code",
   "execution_count": 123,
   "metadata": {},
   "outputs": [],
   "source": [
    "def printValues(file, category, values):\n",
    "    for value in values:\n",
    "        # 1 pf, 1 farad, etc.\n",
    "        for i in range(1, 9):\n",
    "            file.write(\"{},{} {}\\n\".format(category, i, value))\n",
    "            file.write(\"{},{}{}\\n\".format(category, i, value))\n",
    "            file.write(\"{},{} to {} {}\\n\".format(category, i, i+5, value))\n",
    "        \n",
    "        # 20 f, 20 farads, etc.\n",
    "        for i in range(0, 120, 20):\n",
    "            file.write(\"{},{} {}\\n\".format(category, i, value))\n",
    "            file.write(\"{},{}{}\\n\".format(category, i, value))\n",
    "            file.write(\"{},{} to {} {}\\n\".format(category, i, i+20, value))\n",
    "\n",
    "        # 21 f, 42 farads, etc.            \n",
    "        for i in range(100, 300, 21):\n",
    "            file.write(\"{},{} {}\\n\".format(category, i, value))\n",
    "            file.write(\"{},{}{}\\n\".format(category, i, value))   \n",
    "            file.write(\"{},{} to {} {}\\n\".format(category, i, i+50, value))\n",
    "            \n",
    "        # 0.1 f, 0.2 farads, etc.           \n",
    "        for i in range(1, 100, 1):\n",
    "            # measure, 0.1 farads (no trailing zeros)\n",
    "            file.write(\"{},{} {}\\n\".format(category, '{0:.1f}'.format(i * 0.1), value))\n",
    "            \n",
    "            # measure, 0.1farads (no trailing zeros)\n",
    "            file.write(\"{},{}{}\\n\".format(category, '{0:.1f}'.format(i * 0.1), value))\n",
    "            \n",
    "            # measure, 0.010 f\n",
    "            file.write(\"{},{} {}\\n\".format(category, '{0:0.3f}'.format(i * 0.01), value))\n",
    "            # measure, 0.010f\n",
    "            file.write(\"{},{}{}\\n\".format(category, '{0:0.3f}'.format(i * 0.01), value))\n",
    "            \n",
    "            # measure, .01 f (no leading zero, no trailing zeros)\n",
    "            x = '{0:0.3f}'.format(i * 0.01)\n",
    "            file.write(\"{},{} {}\\n\".format(category, x[1:len(x)], value))\n",
    "            file.write(\"{},{}{}\\n\".format(category, x[1:len(x)], value))\n",
    "            \n",
    "        for i in range(1, 100, 1):\n",
    "            file.write(\"{},{} {}\\n\".format(category, '{0:.3f}'.format(i * 0.1), value))\n",
    "            file.write(\"{},{}{}\\n\".format(category, '{0:.3f}'.format(i * 0.1), value))            \n",
    "        for i in range(0, 10, 1):\n",
    "            file.write(\"{},{} {}\\n\".format(category,'{0:1.3f}'.format(i * 0.015), value))\n",
    "            file.write(\"{},{}{}\\n\".format(category, '{0:1.3f}'.format(i * 0.015), value))\n",
    "            #file.write(\"{},{} to {} {}\\n\".format(category, '{0:1.3f}'.format(i * 0.015), '{0:1.3f}'.format(i+10), value))\n",
    "        for i in range(0, 10, 1):\n",
    "            file.write(\"{},{} {}\\n\".format(category,i * 0.015, value))\n",
    "            file.write(\"{},{}{}\\n\".format(category, i, value))\n",
    "            file.write(\"{},{} to {} {}\\n\".format(category, i * 0.015, i+10, value))           \n",
    "            \n",
    "def buildValues(prefixes, values):\n",
    "    newValues = []\n",
    "    for prefix in prefixes:\n",
    "        for value in values:\n",
    "            newValues.append(prefix + \" \" + value)\n",
    "            newValues.append(prefix + value)\n",
    "    return newValues\n",
    "            \n",
    "categories = [\"farads\",\"milli farads\",\"micro farads\",\"pico farads\"]\n",
    "baseValues = [\"f\",\"F\",\"farads\", \"Farads\",\"farad\", \"farads\"]\n",
    "microValues = buildValues([\"micro\",\"μ\"], baseValues) \n",
    "milliValues = buildValues([\"milli\",\"m\"], baseValues) \n",
    "picoValues = buildValues([\"pico\"], baseValues)\n",
    "\n",
    "catDic = {\"farads\":baseValues, \"milli farads\":milliValues, \"micro farads\":microValues, \"pico farads\":picoValues}\n",
    "\n",
    "#foreach value in baseFValues:\n",
    "        \n",
    "file = open(\"testdata.csv\",\"w\", encoding=\"UTF-8\") \n",
    "file.write(\"Category,Value\\n\")\n",
    "\n",
    "for cat in categories:\n",
    "    printValues(file, cat, catDic[cat])\n",
    "\n",
    "file.close()\n"
   ]
  },
  {
   "cell_type": "code",
   "execution_count": 33,
   "metadata": {
    "scrolled": true
   },
   "outputs": [
    {
     "name": "stdout",
     "output_type": "stream",
     "text": [
      "hello world\n",
      "hello world\n",
      "hello world\n",
      "hello world\n"
     ]
    }
   ],
   "source": [
    "hello = \"hello\"\n",
    "world = \"world\"\n",
    "\n",
    "print(hello + \" \" + world)\n",
    "print(\"%s %s\" % (hello, world))\n",
    "print(\"{} {}\".format(hello, world))\n",
    "print(' '.join([hello, world]))"
   ]
  },
  {
   "cell_type": "code",
   "execution_count": null,
   "metadata": {},
   "outputs": [],
   "source": [
    "for category in categories:\n",
    "    \n",
    "    values = [\"μf\",\"pico farads\",\"pico f\", \"pico F\",\"picof\", \"picoF\",\"picofarads\", \"picofarad\"]\n",
    "    for value in values:\n",
    "        for i in range(5, 10, 5):\n",
    "            print(\"{},{} {}\".format(category, i, value))\n",
    "            print(\"{},{}{}\".format(category, i, value))\n",
    "        for i in range(5, 10, 5):\n",
    "            print(\"{},{} {}\".format(category, i/10, value))\n",
    "            print(\"{},{}{}\".format(category, i/10, value))"
   ]
  },
  {
   "cell_type": "code",
   "execution_count": 45,
   "metadata": {},
   "outputs": [],
   "source": [
    "def sumIt(one, two):\n",
    "    return one + two\n",
    "\n",
    "x = sumIt(1,2)"
   ]
  },
  {
   "cell_type": "code",
   "execution_count": 115,
   "metadata": {},
   "outputs": [
    {
     "data": {
      "text/plain": [
       "'.020'"
      ]
     },
     "execution_count": 115,
     "metadata": {},
     "output_type": "execute_result"
    }
   ],
   "source": [
    "s = \"0.020\"\n",
    "len(s)-1\n",
    "s[1:len(s)]"
   ]
  }
 ],
 "metadata": {
  "kernelspec": {
   "display_name": "Python 3",
   "language": "python",
   "name": "python3"
  },
  "language_info": {
   "codemirror_mode": {
    "name": "ipython",
    "version": 3
   },
   "file_extension": ".py",
   "mimetype": "text/x-python",
   "name": "python",
   "nbconvert_exporter": "python",
   "pygments_lexer": "ipython3",
   "version": "3.7.0"
  }
 },
 "nbformat": 4,
 "nbformat_minor": 2
}
