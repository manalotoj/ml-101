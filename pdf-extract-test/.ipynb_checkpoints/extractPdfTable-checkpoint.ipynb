{
 "cells": [
  {
   "cell_type": "code",
   "execution_count": 1,
   "metadata": {},
   "outputs": [
    {
     "ename": "SyntaxError",
     "evalue": "unexpected EOF while parsing (<ipython-input-1-4b6fb633d5b4>, line 33)",
     "output_type": "error",
     "traceback": [
      "\u001b[1;36m  File \u001b[1;32m\"<ipython-input-1-4b6fb633d5b4>\"\u001b[1;36m, line \u001b[1;32m33\u001b[0m\n\u001b[1;33m    }\u001b[0m\n\u001b[1;37m     ^\u001b[0m\n\u001b[1;31mSyntaxError\u001b[0m\u001b[1;31m:\u001b[0m unexpected EOF while parsing\n"
     ]
    }
   ],
   "source": [
    "#\n",
    "# copied directly from https://github.com/ashima/pdf-table-extract/blob/master/setup.py\n",
    "#\n",
    "\n",
    "from setuptools import setup, find_packages\n",
    "import os\n",
    "\n",
    "here = os.path.abspath(os.path.dirname(__file__))\n",
    "README = open(os.path.join(here, 'README.md')).read()\n",
    "#NEWS = open(os.path.join(here, 'NEWS.txt')).read()\n",
    "\n",
    "\n",
    "version = '0.1'\n",
    "\n",
    "install_requires = [ \"numpy\" ]\n",
    "\n",
    "\n",
    "setup(name='pdf-table-extract',\n",
    "    version=version,\n",
    "    description=\"Extract Tables from PDF files\",\n",
    "    long_description=README + '\\n\\n',# + NEWS,\n",
    "    classifiers=[\n",
    "      # Get strings from http://pypi.python.org/pypi?%3Aaction=list_classifiers\n",
    "    ],\n",
    "    keywords='PDF, tables',\n",
    "    author='Ian McEwan',\n",
    "    author_email='ijm@ashimaresearch.com',\n",
    "    url='ashimaresearch.com',\n",
    "    license='MIT-Expat',\n",
    "    packages=find_packages('src'),\n",
    "    package_dir = {'': 'src'},include_package_data=True,\n",
    "    zip_safe=False,\n",
    "    install_requires=install_requires,\n",
    "    entry_points={\n",
    "        'console_scripts':\n",
    "            ['pdf-table-extract=pdftableextract.scripts:main']\n",
    "    }"
   ]
  }
 ],
 "metadata": {
  "kernelspec": {
   "display_name": "Python 3",
   "language": "python",
   "name": "python3"
  },
  "language_info": {
   "codemirror_mode": {
    "name": "ipython",
    "version": 3
   },
   "file_extension": ".py",
   "mimetype": "text/x-python",
   "name": "python",
   "nbconvert_exporter": "python",
   "pygments_lexer": "ipython3",
   "version": "3.7.0"
  }
 },
 "nbformat": 4,
 "nbformat_minor": 2
}
