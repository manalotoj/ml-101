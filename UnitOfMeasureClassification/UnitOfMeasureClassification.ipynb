{
 "cells": [
  {
   "cell_type": "code",
   "execution_count": 100,
   "metadata": {},
   "outputs": [
    {
     "data": {
      "text/html": [
       "<div>\n",
       "<style scoped>\n",
       "    .dataframe tbody tr th:only-of-type {\n",
       "        vertical-align: middle;\n",
       "    }\n",
       "\n",
       "    .dataframe tbody tr th {\n",
       "        vertical-align: top;\n",
       "    }\n",
       "\n",
       "    .dataframe thead th {\n",
       "        text-align: right;\n",
       "    }\n",
       "</style>\n",
       "<table border=\"1\" class=\"dataframe\">\n",
       "  <thead>\n",
       "    <tr style=\"text-align: right;\">\n",
       "      <th></th>\n",
       "      <th>Category</th>\n",
       "      <th>Value</th>\n",
       "      <th>category_id</th>\n",
       "    </tr>\n",
       "  </thead>\n",
       "  <tbody>\n",
       "    <tr>\n",
       "      <th>0</th>\n",
       "      <td>farads</td>\n",
       "      <td>Capacitance f</td>\n",
       "      <td>0</td>\n",
       "    </tr>\n",
       "    <tr>\n",
       "      <th>1</th>\n",
       "      <td>farads</td>\n",
       "      <td>Capacitance farad</td>\n",
       "      <td>0</td>\n",
       "    </tr>\n",
       "    <tr>\n",
       "      <th>2</th>\n",
       "      <td>farads</td>\n",
       "      <td>Capacitance Farad</td>\n",
       "      <td>0</td>\n",
       "    </tr>\n",
       "    <tr>\n",
       "      <th>3</th>\n",
       "      <td>farads</td>\n",
       "      <td>Capacitance farads</td>\n",
       "      <td>0</td>\n",
       "    </tr>\n",
       "    <tr>\n",
       "      <th>4</th>\n",
       "      <td>farads</td>\n",
       "      <td>capacitance farad</td>\n",
       "      <td>0</td>\n",
       "    </tr>\n",
       "  </tbody>\n",
       "</table>\n",
       "</div>"
      ],
      "text/plain": [
       "  Category               Value  category_id\n",
       "0   farads       Capacitance f            0\n",
       "1   farads   Capacitance farad            0\n",
       "2   farads   Capacitance Farad            0\n",
       "3   farads  Capacitance farads            0\n",
       "4   farads   capacitance farad            0"
      ]
     },
     "execution_count": 100,
     "metadata": {},
     "output_type": "execute_result"
    }
   ],
   "source": [
    "import pandas as pd\n",
    "\n",
    "df = pd.read_csv('TD01.csv', encoding = \"utf-8\")\n",
    "\n",
    "col = ['Category', 'Value']\n",
    "df = df[col]\n",
    "df.columns = ['Category', 'Value']\n",
    "df['category_id'] = df['Category'].factorize()[0]\n",
    "category_id_df = df[['Category', 'category_id']].drop_duplicates().sort_values('category_id')\n",
    "category_to_id = dict(category_id_df.values)\n",
    "id_to_category = dict(category_id_df[['category_id', 'Category']].values)\n",
    "df.head()"
   ]
  },
  {
   "cell_type": "code",
   "execution_count": 113,
   "metadata": {},
   "outputs": [
    {
     "name": "stdout",
     "output_type": "stream",
     "text": [
      "0    0\n",
      "1    0\n",
      "2    0\n",
      "3    0\n",
      "4    0\n",
      "Name: category_id, dtype: int32\n"
     ]
    }
   ],
   "source": [
    "from sklearn.feature_extraction.text import TfidfVectorizer\n",
    "\n",
    "tfidf = TfidfVectorizer(analyzer='char', sublinear_tf=True, min_df=1, norm=None, encoding='latin-1', ngram_range=(1, 3), stop_words=None)\n",
    "\n",
    "features = tfidf.fit_transform(df.Value).toarray()\n",
    "labels = df.category_id\n",
    "features.shape\n",
    "print(labels.head())"
   ]
  },
  {
   "cell_type": "code",
   "execution_count": 118,
   "metadata": {},
   "outputs": [],
   "source": [
    "#\n",
    "# Naive Bayes Classifier\n",
    "#\n",
    "\n",
    "from sklearn.model_selection import train_test_split\n",
    "from sklearn.feature_extraction.text import CountVectorizer\n",
    "from sklearn.feature_extraction.text import TfidfTransformer\n",
    "from sklearn.naive_bayes import MultinomialNB\n",
    "\n",
    "X_train, X_test, y_train, y_test = train_test_split(df['Value'], df['Category'], random_state = 0)\n",
    "#X_train, y_train = df['Value'], df['Category']\n",
    "\n",
    "count_vect = CountVectorizer()\n",
    "X_train_counts = count_vect.fit_transform(X_train)\n",
    "tfidf_transformer = TfidfTransformer()\n",
    "X_train_tfidf = tfidf_transformer.fit_transform(X_train_counts)\n",
    "clf = MultinomialNB().fit(X_train_tfidf, y_train)"
   ]
  },
  {
   "cell_type": "code",
   "execution_count": 120,
   "metadata": {},
   "outputs": [
    {
     "name": "stdout",
     "output_type": "stream",
     "text": [
      "resistance 100 mega ohms   ['ohms']\n",
      "current amp   ['amps']\n",
      "current ripple current   ['amps']\n",
      "current 5 a   ['amps']\n",
      "current 22 amp   ['amps']\n",
      "current 22 mamps   ['amps']\n",
      "current 22 milli amps   ['milli amps']\n",
      "voltage volts   ['volts']\n",
      "voltage v   ['volts']\n",
      "voltage 5 micro volts   ['volts']\n",
      "voltage 5 v   ['volts']\n",
      "voltage 12 μv   ['volts']\n",
      "Capacitance 10F   ['farads']\n",
      "capacitance 5 μf   ['farads']\n",
      "capacitance 25 pf   ['farads']\n"
     ]
    }
   ],
   "source": [
    "#\n",
    "# try making some predictions\n",
    "#\n",
    "value = 'resistance 100 mega ohms'\n",
    "print(value, ' ', clf.predict(count_vect.transform([value])))\n",
    "\n",
    "value = 'current amp'\n",
    "print(value, ' ', clf.predict(count_vect.transform([value])))\n",
    "\n",
    "value = 'current ripple current'\n",
    "print(value, ' ', clf.predict(count_vect.transform([value])))\n",
    "\n",
    "value = 'current 5 a'\n",
    "print(value, ' ', clf.predict(count_vect.transform([value])))\n",
    "\n",
    "value = 'current 22 amp'\n",
    "print(value, ' ', clf.predict(count_vect.transform([value])))\n",
    "\n",
    "value = 'current 22 m amps'\n",
    "print(value, ' ', clf.predict(count_vect.transform([value])))\n",
    "\n",
    "value = 'current 22 milli amps'\n",
    "print(value, ' ', clf.predict(count_vect.transform([value])))\n",
    "\n",
    "value = 'voltage volts'\n",
    "print(value, ' ',clf.predict(count_vect.transform([value])))\n",
    "\n",
    "value = 'voltage v'\n",
    "print(value, ' ',clf.predict(count_vect.transform([value])))\n",
    "\n",
    "value = 'voltage 5 micro volts'\n",
    "print(value, ' ',clf.predict(count_vect.transform([value])))\n",
    "\n",
    "value = 'voltage 5 v'\n",
    "print(value, ' ',clf.predict(count_vect.transform([value])))\n",
    "\n",
    "value = 'voltage 12 μv'\n",
    "print(value, ' ',clf.predict(count_vect.transform([value])))\n",
    "\n",
    "value = 'Capacitance 10F'\n",
    "print(value, ' ',clf.predict(count_vect.transform([value])))\n",
    "\n",
    "value = 'capacitance 5 μf'\n",
    "print(value, ' ',clf.predict(count_vect.transform([value])))\n",
    "\n",
    "value = 'capacitance 25 pf'\n",
    "print(value, ' ',clf.predict(count_vect.transform([value])))\n"
   ]
  },
  {
   "cell_type": "code",
   "execution_count": null,
   "metadata": {},
   "outputs": [],
   "source": []
  }
 ],
 "metadata": {
  "kernelspec": {
   "display_name": "Python 3",
   "language": "python",
   "name": "python3"
  },
  "language_info": {
   "codemirror_mode": {
    "name": "ipython",
    "version": 3
   },
   "file_extension": ".py",
   "mimetype": "text/x-python",
   "name": "python",
   "nbconvert_exporter": "python",
   "pygments_lexer": "ipython3",
   "version": "3.7.0"
  }
 },
 "nbformat": 4,
 "nbformat_minor": 2
}
